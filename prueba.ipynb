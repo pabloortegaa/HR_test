{
 "cells": [
  {
   "cell_type": "code",
   "execution_count": null,
   "metadata": {},
   "outputs": [],
   "source": []
  },
  {
   "cell_type": "code",
   "execution_count": 2,
   "metadata": {},
   "outputs": [],
   "source": [
    "output = {\"content\":{\"_links\":{\"basics\":{\"href\":\"https://mobile.fmcsa.dot.gov/qc/services/carriers/12345/basics\"},\"cargo carried\":{\"href\":\"https://mobile.fmcsa.dot.gov/qc/services/carriers/12345/cargo-carried\"},\"operation classification\":{\"href\":\"https://mobile.fmcsa.dot.gov/qc/services/carriers/12345/operation-classification\"},\"docket numbers\":{\"href\":\"https://mobile.fmcsa.dot.gov/qc/services/carriers/12345/docket-numbers\"},\"carrier active-For-hire authority\":{\"href\":\"https://mobile.fmcsa.dot.gov/qc/services/carriers/12345/authority\"},\"self\":{\"href\":\"https://mobile.fmcsa.dot.gov/qc/services/carriers/12345\"}},\"carrier\":{\"allowedToOperate\":\"Y\",\"bipdInsuranceOnFile\":\"0\",\"bipdInsuranceRequired\":\"Y\",\"bipdRequiredAmount\":\"750\",\"bondInsuranceOnFile\":\"0\",\"bondInsuranceRequired\":\"u\",\"brokerAuthorityStatus\":\"N\",\"cargoInsuranceOnFile\":\"0\",\"cargoInsuranceRequired\":\"u\",\"carrierOperation\":{\"carrierOperationCode\":\"A\",\"carrierOperationDesc\":\"Interstate\"},\"censusTypeId\":'null',\"commonAuthorityStatus\":\"I\",\"contractAuthorityStatus\":\"N\",\"crashTotal\":0,\"dbaName\":'null',\"dotNumber\":12345,\"driverInsp\":5,\"driverOosInsp\":0,\"driverOosRate\":0,\"driverOosRateNationalAverage\":\"5.51\",\"ein\":'null',\"fatalCrash\":0,\"hazmatInsp\":1,\"hazmatOosInsp\":0,\"hazmatOosRate\":0,\"hazmatOosRateNationalAverage\":\"4.5\",\"injCrash\":0,\"isPassengerCarrier\":\"N\",\"issScore\":'null',\"legalName\":\"TROTZKE TRUCKING INC\",\"mcs150Outdated\":\"N\",\"oosDate\":'null',\"oosRateNationalAverageYear\":\"2009-2010\",\"phyCity\":\"FARMERSBURG\",\"phyCountry\":\"US\",\"phyState\":\"IN\",\"phyStreet\":\"PO BOX 128\",\"phyZipcode\":\"47850\",\"reviewDate\":'null',\"reviewType\":'null',\"safetyRating\":\"S\",\"safetyRatingDate\":\"1980-09-10\",\"safetyReviewDate\":'null',\"safetyReviewType\":'null',\"snapshotDate\":'null',\"statusCode\":\"I\",\"totalDrivers\":'null',\"totalPowerUnits\":'null',\"towawayCrash\":0,\"vehicleInsp\":4,\"vehicleOosInsp\":1,\"vehicleOosRate\":25,\"vehicleOosRateNationalAverage\":\"20.72\"}},\"retrievalDate\":\"2025-03-24T14:40:44.912+0000\"}"
   ]
  },
  {
   "cell_type": "code",
   "execution_count": 3,
   "metadata": {},
   "outputs": [
    {
     "data": {
      "text/plain": [
       "dict_keys(['content', 'retrievalDate'])"
      ]
     },
     "execution_count": 3,
     "metadata": {},
     "output_type": "execute_result"
    }
   ],
   "source": [
    "output.keys()"
   ]
  },
  {
   "cell_type": "code",
   "execution_count": 6,
   "metadata": {},
   "outputs": [
    {
     "data": {
      "text/plain": [
       "dict_keys(['_links', 'carrier'])"
      ]
     },
     "execution_count": 6,
     "metadata": {},
     "output_type": "execute_result"
    }
   ],
   "source": [
    "output['content'].keys()"
   ]
  },
  {
   "cell_type": "code",
   "execution_count": 11,
   "metadata": {},
   "outputs": [
    {
     "data": {
      "text/plain": [
       "{'allowedToOperate': 'Y',\n",
       " 'bipdInsuranceOnFile': '0',\n",
       " 'bipdInsuranceRequired': 'Y',\n",
       " 'bipdRequiredAmount': '750',\n",
       " 'bondInsuranceOnFile': '0',\n",
       " 'bondInsuranceRequired': 'u',\n",
       " 'brokerAuthorityStatus': 'N',\n",
       " 'cargoInsuranceOnFile': '0',\n",
       " 'cargoInsuranceRequired': 'u',\n",
       " 'carrierOperation': {'carrierOperationCode': 'A',\n",
       "  'carrierOperationDesc': 'Interstate'},\n",
       " 'censusTypeId': 'null',\n",
       " 'commonAuthorityStatus': 'I',\n",
       " 'contractAuthorityStatus': 'N',\n",
       " 'crashTotal': 0,\n",
       " 'dbaName': 'null',\n",
       " 'dotNumber': 12345,\n",
       " 'driverInsp': 5,\n",
       " 'driverOosInsp': 0,\n",
       " 'driverOosRate': 0,\n",
       " 'driverOosRateNationalAverage': '5.51',\n",
       " 'ein': 'null',\n",
       " 'fatalCrash': 0,\n",
       " 'hazmatInsp': 1,\n",
       " 'hazmatOosInsp': 0,\n",
       " 'hazmatOosRate': 0,\n",
       " 'hazmatOosRateNationalAverage': '4.5',\n",
       " 'injCrash': 0,\n",
       " 'isPassengerCarrier': 'N',\n",
       " 'issScore': 'null',\n",
       " 'legalName': 'TROTZKE TRUCKING INC',\n",
       " 'mcs150Outdated': 'N',\n",
       " 'oosDate': 'null',\n",
       " 'oosRateNationalAverageYear': '2009-2010',\n",
       " 'phyCity': 'FARMERSBURG',\n",
       " 'phyCountry': 'US',\n",
       " 'phyState': 'IN',\n",
       " 'phyStreet': 'PO BOX 128',\n",
       " 'phyZipcode': '47850',\n",
       " 'reviewDate': 'null',\n",
       " 'reviewType': 'null',\n",
       " 'safetyRating': 'S',\n",
       " 'safetyRatingDate': '1980-09-10',\n",
       " 'safetyReviewDate': 'null',\n",
       " 'safetyReviewType': 'null',\n",
       " 'snapshotDate': 'null',\n",
       " 'statusCode': 'I',\n",
       " 'totalDrivers': 'null',\n",
       " 'totalPowerUnits': 'null',\n",
       " 'towawayCrash': 0,\n",
       " 'vehicleInsp': 4,\n",
       " 'vehicleOosInsp': 1,\n",
       " 'vehicleOosRate': 25,\n",
       " 'vehicleOosRateNationalAverage': '20.72'}"
      ]
     },
     "execution_count": 11,
     "metadata": {},
     "output_type": "execute_result"
    }
   ],
   "source": [
    "output['content'][\"carrier\"]"
   ]
  },
  {
   "cell_type": "code",
   "execution_count": 10,
   "metadata": {},
   "outputs": [
    {
     "data": {
      "text/plain": [
       "'Y'"
      ]
     },
     "execution_count": 10,
     "metadata": {},
     "output_type": "execute_result"
    }
   ],
   "source": [
    "output['content'][\"carrier\"]['allowedToOperate']"
   ]
  },
  {
   "cell_type": "code",
   "execution_count": null,
   "metadata": {},
   "outputs": [],
   "source": [
    "#allowedToOperate, "
   ]
  }
 ],
 "metadata": {
  "kernelspec": {
   "display_name": "venv",
   "language": "python",
   "name": "python3"
  },
  "language_info": {
   "codemirror_mode": {
    "name": "ipython",
    "version": 3
   },
   "file_extension": ".py",
   "mimetype": "text/x-python",
   "name": "python",
   "nbconvert_exporter": "python",
   "pygments_lexer": "ipython3",
   "version": "3.10.12"
  }
 },
 "nbformat": 4,
 "nbformat_minor": 2
}
